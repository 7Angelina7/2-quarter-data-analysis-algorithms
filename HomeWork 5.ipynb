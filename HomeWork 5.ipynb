{
 "cells": [
  {
   "cell_type": "markdown",
   "id": "b111aee2",
   "metadata": {},
   "source": [
    "### Задание1. Сформируйте посредством sklearn.make_classification датасет из 100 объектов с двумя признаками. Обучите случайный лес из 1, 3, 10 и 50 деревьев и визуализируйте их разделяющие гиперплоскости на графиках по подобию визуализации деревьев из предыдущего урока, заменив вызов функции predict на tree_vote."
   ]
  },
  {
   "cell_type": "code",
   "execution_count": 26,
   "id": "a374b32e",
   "metadata": {},
   "outputs": [],
   "source": [
    "import matplotlib.pyplot as plt\n",
    "import numpy as np\n",
    "import random\n",
    "from matplotlib.colors import ListedColormap\n",
    "from sklearn.datasets import make_classification\n",
    "from sklearn.model_selection import train_test_split\n",
    "import warnings\n",
    "warnings.filterwarnings('ignore')"
   ]
  },
  {
   "cell_type": "code",
   "execution_count": 2,
   "id": "2fa050f7",
   "metadata": {},
   "outputs": [],
   "source": [
    "classification_data, classification_labels = make_classification(n_samples=100, n_features=2, n_informative=2, n_classes=2,\n",
    "    n_redundant=0, n_clusters_per_class=1, random_state=10)"
   ]
  },
  {
   "cell_type": "code",
   "execution_count": 3,
   "id": "014abd7e",
   "metadata": {},
   "outputs": [],
   "source": [
    "train_data, test_data, train_labels, test_labels = train_test_split(classification_data, \n",
    "                                                                    classification_labels, test_size=0.3, random_state=1)"
   ]
  },
  {
   "cell_type": "code",
   "execution_count": 24,
   "id": "fedd2950",
   "metadata": {},
   "outputs": [
    {
     "data": {
      "image/png": "[encoded data removed]",
      "text/plain": [
       "<Figure size 576x576 with 1 Axes>"
      ]
     },
     "metadata": {
      "needs_background": "light"
     },
     "output_type": "display_data"
    }
   ],
   "source": [
    "colors = ListedColormap(['green', 'yellow'])\n",
    "light_colors = ListedColormap(['lightgreen', 'lightyellow'])\n",
    "\n",
    "plt.figure(figsize=(8,8))\n",
    "plt.scatter(classification_data[:, 0], classification_data[:, 1], \n",
    "              c=classification_labels, cmap=colors);"
   ]
  },
  {
   "cell_type": "code",
   "execution_count": 5,
   "id": "3d5c4c9a",
   "metadata": {},
   "outputs": [],
   "source": [
    "np.random.seed(42)\n",
    "\n",
    "def get_bootstrap(data, labels, N):\n",
    "    n_samples = data.shape[0] \n",
    "    bootstrap = []\n",
    "    \n",
    "    for i in range(N):\n",
    "        \n",
    "        sample_index = np.random.randint(0, n_samples, size=n_samples)\n",
    "        b_data = data[sample_index]\n",
    "        b_labels = labels[sample_index]\n",
    "        \n",
    "        bootstrap.append((b_data, b_labels))\n",
    "        \n",
    "    return bootstrap"
   ]
  },
  {
   "cell_type": "code",
   "execution_count": 6,
   "id": "22727fa0",
   "metadata": {},
   "outputs": [
    {
     "data": {
      "text/plain": [
       "[(array([[-0.70302192, -0.90290872],\n",
       "         [-2.08758066, -0.03101632],\n",
       "         [-1.2858872 , -0.04035584],\n",
       "         [ 1.25388341, -1.48842279],\n",
       "         [-2.87898397, -1.1082683 ],\n",
       "         [ 0.79341915, -0.87427975],\n",
       "         [-2.11477688, -1.02403124],\n",
       "         [ 0.65656089, -0.29428493],\n",
       "         [-1.90170665, -3.23974263],\n",
       "         [-1.90170665, -3.23974263],\n",
       "         [ 0.46209534, -0.50097219],\n",
       "         [-1.13229397, -1.64517921],\n",
       "         [-0.22471585,  0.55413394],\n",
       "         [ 1.42752816, -1.59805052],\n",
       "         [ 1.50589361, -1.9767807 ],\n",
       "         [-1.2697409 , -0.57530882],\n",
       "         [ 0.53201887, -0.14567033],\n",
       "         [ 0.46209534, -0.50097219],\n",
       "         [-0.26324669, -1.53381238],\n",
       "         [ 0.48657561, -1.01783005],\n",
       "         [ 0.53201887, -0.14567033],\n",
       "         [-0.38093207, -0.49847008],\n",
       "         [ 0.21261052,  0.0314066 ],\n",
       "         [ 0.79341915, -0.87427975],\n",
       "         [-0.32348688, -1.05155899],\n",
       "         [ 0.6260228 , -0.26895555],\n",
       "         [ 0.82240228, -0.32538729],\n",
       "         [ 1.50589361, -1.9767807 ],\n",
       "         [ 0.64940449, -0.56787036],\n",
       "         [ 1.45484589, -2.0720791 ],\n",
       "         [ 1.15835328, -1.58543952],\n",
       "         [-2.4829922 , -0.69520773],\n",
       "         [-1.96179483, -3.2241248 ],\n",
       "         [-2.54769311, -1.63380711],\n",
       "         [ 0.21261052,  0.0314066 ],\n",
       "         [ 0.94156532, -1.19909721],\n",
       "         [-1.2858872 , -0.04035584],\n",
       "         [ 1.34489347, -1.68769136],\n",
       "         [ 1.34489347, -1.68769136],\n",
       "         [-0.56662958, -0.38123705],\n",
       "         [ 1.34489347, -1.68769136],\n",
       "         [-2.62394964, -1.57588672],\n",
       "         [ 1.14983471, -1.63623841],\n",
       "         [-0.38093207, -0.49847008],\n",
       "         [ 1.42752816, -1.59805052],\n",
       "         [-2.62394964, -1.57588672],\n",
       "         [ 0.70032636, -0.96021036],\n",
       "         [ 0.79341915, -0.87427975],\n",
       "         [ 0.91235053, -1.30113172],\n",
       "         [ 1.15621638, -0.90568337],\n",
       "         [ 1.4626666 , -1.81006083],\n",
       "         [-1.74693294, -2.20938424],\n",
       "         [ 0.64940449, -0.56787036],\n",
       "         [ 0.21261052,  0.0314066 ],\n",
       "         [-1.21012194, -3.10191806],\n",
       "         [ 1.6063524 , -1.85626693],\n",
       "         [-1.25147902, -1.43034284],\n",
       "         [-1.2697409 , -0.57530882],\n",
       "         [ 0.53201887, -0.14567033],\n",
       "         [ 0.90956607, -0.76293445],\n",
       "         [-2.54769311, -1.63380711],\n",
       "         [ 0.21261052,  0.0314066 ],\n",
       "         [ 0.72635135, -0.77742224],\n",
       "         [ 0.67467631, -0.2113451 ],\n",
       "         [ 1.00312571, -1.00799327],\n",
       "         [-0.56662958, -0.38123705],\n",
       "         [-1.70287965, -0.94618952],\n",
       "         [-0.88598597, -0.66833553],\n",
       "         [ 0.57671138, -0.48833604],\n",
       "         [ 0.91507696, -0.8456969 ],\n",
       "         [-2.20452222, -1.60052821],\n",
       "         [-1.74693294, -2.20938424],\n",
       "         [ 0.53201887, -0.14567033],\n",
       "         [ 1.28636005, -1.67317112],\n",
       "         [-2.47728218, -0.85075298],\n",
       "         [-1.74693294, -2.20938424],\n",
       "         [-2.47728218, -0.85075298],\n",
       "         [-2.08758066, -0.03101632],\n",
       "         [ 0.71701399, -0.43982635],\n",
       "         [ 1.4626666 , -1.81006083],\n",
       "         [-1.25147902, -1.43034284],\n",
       "         [ 0.67467631, -0.2113451 ],\n",
       "         [-1.15589284, -0.21217685],\n",
       "         [ 0.48003153, -3.07639697],\n",
       "         [ 1.34489347, -1.68769136],\n",
       "         [-1.13229397, -1.64517921],\n",
       "         [-1.21012194, -3.10191806],\n",
       "         [-0.84431902, -2.20303315],\n",
       "         [-0.96198891, -0.38688593],\n",
       "         [-1.2858872 , -0.04035584],\n",
       "         [ 1.25388341, -1.48842279],\n",
       "         [-0.88598597, -0.66833553],\n",
       "         [ 0.65656089, -0.29428493],\n",
       "         [ 1.34489347, -1.68769136],\n",
       "         [ 0.5609146 , -0.9621188 ],\n",
       "         [ 1.26198764, -1.13361393],\n",
       "         [ 0.94156532, -1.19909721],\n",
       "         [ 0.21759591, -0.12381533],\n",
       "         [-1.2697409 , -0.57530882],\n",
       "         [-0.22471585,  0.55413394]]),\n",
       "  array([1, 1, 1, 0, 1, 0, 1, 0, 1, 1, 0, 1, 1, 0, 0, 1, 1, 0, 1, 1, 1, 1,\n",
       "         0, 0, 1, 0, 0, 0, 0, 0, 0, 1, 1, 1, 0, 0, 1, 0, 0, 1, 0, 1, 0, 1,\n",
       "         0, 1, 0, 0, 0, 0, 0, 1, 0, 0, 1, 0, 1, 1, 1, 0, 1, 0, 0, 0, 0, 1,\n",
       "         1, 1, 0, 0, 1, 1, 1, 0, 1, 1, 1, 1, 0, 0, 1, 0, 1, 1, 0, 1, 1, 1,\n",
       "         1, 1, 0, 1, 0, 0, 0, 0, 0, 0, 1, 1])),\n",
       " (array([[-3.50767343e-01,  8.17494429e-02],\n",
       "         [ 6.49404486e-01, -5.67870362e-01],\n",
       "         [ 2.12610518e-01,  3.14065989e-02],\n",
       "         [ 1.13125570e+00, -1.55589438e+00],\n",
       "         [-2.63180121e+00, -1.01671898e+00],\n",
       "         [-1.28588720e+00, -4.03558406e-02],\n",
       "         [-9.84492261e-01,  4.18725041e-01],\n",
       "         [ 1.24798969e+00, -1.45568767e+00],\n",
       "         [ 6.49404486e-01, -5.67870362e-01],\n",
       "         [ 7.26351353e-01, -7.77422239e-01],\n",
       "         [ 1.60635240e+00, -1.85626693e+00],\n",
       "         [ 4.62095337e-01, -5.00972191e-01],\n",
       "         [-3.16876143e+00, -2.18082887e+00],\n",
       "         [ 1.00312571e+00, -1.00799327e+00],\n",
       "         [ 4.62095337e-01, -5.00972191e-01],\n",
       "         [ 7.17013990e-01, -4.39826355e-01],\n",
       "         [ 1.21404538e+00, -1.60934767e+00],\n",
       "         [ 5.76711379e-01, -4.88336041e-01],\n",
       "         [ 1.00312571e+00, -1.00799327e+00],\n",
       "         [-1.70287965e+00, -9.46189523e-01],\n",
       "         [-1.70287965e+00, -9.46189523e-01],\n",
       "         [-3.23486879e-01, -1.05155899e+00],\n",
       "         [ 2.41537560e-01,  1.56522130e-01],\n",
       "         [ 1.13125570e+00, -1.55589438e+00],\n",
       "         [-2.21835051e+00, -1.25252811e+00],\n",
       "         [ 7.00326361e-01, -9.60210360e-01],\n",
       "         [ 9.12350527e-01, -1.30113172e+00],\n",
       "         [ 1.25388341e+00, -1.48842279e+00],\n",
       "         [ 6.90884196e-01, -7.26151192e-01],\n",
       "         [-1.15589284e+00, -2.12176851e-01],\n",
       "         [-3.23486879e-01, -1.05155899e+00],\n",
       "         [-9.61988908e-01, -3.86885930e-01],\n",
       "         [ 1.48952695e+00, -1.30754921e+00],\n",
       "         [ 1.34489347e+00, -1.68769136e+00],\n",
       "         [ 4.62095337e-01, -5.00972191e-01],\n",
       "         [ 1.11634248e+00, -1.27602822e+00],\n",
       "         [ 8.13459158e-01, -2.25786202e-01],\n",
       "         [ 6.74676313e-01, -2.11345099e-01],\n",
       "         [ 9.39945640e-01, -2.16137014e-01],\n",
       "         [ 1.15835328e+00, -1.58543952e+00],\n",
       "         [-1.70287965e+00, -9.46189523e-01],\n",
       "         [ 1.24798969e+00, -1.45568767e+00],\n",
       "         [ 8.13459158e-01, -2.25786202e-01],\n",
       "         [-5.66629581e-01, -3.81237048e-01],\n",
       "         [-8.85985970e-01, -6.68335532e-01],\n",
       "         [ 1.42752816e+00, -1.59805052e+00],\n",
       "         [-3.16876143e+00, -2.18082887e+00],\n",
       "         [ 2.41537560e-01,  1.56522130e-01],\n",
       "         [-1.25147902e+00, -1.43034284e+00],\n",
       "         [-1.21012194e+00, -3.10191806e+00],\n",
       "         [ 1.43827218e+00, -2.18697322e+00],\n",
       "         [ 1.60635240e+00, -1.85626693e+00],\n",
       "         [-2.58363059e-01, -8.50145727e-01],\n",
       "         [-1.28588720e+00, -4.03558406e-02],\n",
       "         [-1.25147902e+00, -1.43034284e+00],\n",
       "         [-1.96179483e+00, -3.22412480e+00],\n",
       "         [ 1.32560143e+00, -1.73237603e+00],\n",
       "         [-2.62394964e+00, -1.57588672e+00],\n",
       "         [ 7.17013990e-01, -4.39826355e-01],\n",
       "         [-2.24968962e+00, -1.66588544e+00],\n",
       "         [-7.03021920e-01, -9.02908718e-01],\n",
       "         [-2.24968962e+00, -1.66588544e+00],\n",
       "         [-1.74693294e+00, -2.20938424e+00],\n",
       "         [ 5.88208178e-01, -1.76068447e-01],\n",
       "         [ 1.48952695e+00, -1.30754921e+00],\n",
       "         [-1.28588720e+00, -4.03558406e-02],\n",
       "         [ 1.24170734e+00, -1.40773826e+00],\n",
       "         [-2.63180121e+00, -1.01671898e+00],\n",
       "         [ 9.15076957e-01, -8.45696902e-01],\n",
       "         [-1.44640857e+00, -8.62183577e-01],\n",
       "         [-1.82280957e+00,  2.76627081e-03],\n",
       "         [ 7.26351353e-01, -7.77422239e-01],\n",
       "         [-2.48299220e+00, -6.95207735e-01],\n",
       "         [ 9.39945640e-01, -2.16137014e-01],\n",
       "         [-2.21835051e+00, -1.25252811e+00],\n",
       "         [ 7.02785492e-01,  1.40507127e-02],\n",
       "         [-1.96179483e+00, -3.22412480e+00],\n",
       "         [-9.84492261e-01,  4.18725041e-01],\n",
       "         [ 1.34489347e+00, -1.68769136e+00],\n",
       "         [-1.13450565e+00, -3.27499916e-01],\n",
       "         [ 1.28636005e+00, -1.67317112e+00],\n",
       "         [-2.21835051e+00, -1.25252811e+00],\n",
       "         [-2.21835051e+00, -1.25252811e+00],\n",
       "         [ 6.74676313e-01, -2.11345099e-01],\n",
       "         [ 9.09566070e-01, -7.62934445e-01],\n",
       "         [-2.63246686e-01, -1.53381238e+00],\n",
       "         [ 1.34489347e+00, -1.68769136e+00],\n",
       "         [-1.90170665e+00, -3.23974263e+00],\n",
       "         [-2.54769311e+00, -1.63380711e+00],\n",
       "         [ 6.49404486e-01, -5.67870362e-01],\n",
       "         [ 1.34489347e+00, -1.68769136e+00],\n",
       "         [ 1.02955948e+00, -1.27002072e+00],\n",
       "         [-3.16876143e+00, -2.18082887e+00],\n",
       "         [ 1.43827218e+00, -2.18697322e+00],\n",
       "         [ 1.34489347e+00, -1.68769136e+00],\n",
       "         [ 1.32560143e+00, -1.73237603e+00],\n",
       "         [ 1.42752816e+00, -1.59805052e+00],\n",
       "         [-4.68345443e-01, -1.27502372e+00],\n",
       "         [ 1.25388341e+00, -1.48842279e+00],\n",
       "         [ 1.43827218e+00, -2.18697322e+00]]),\n",
       "  array([1, 0, 0, 0, 1, 1, 1, 0, 0, 0, 0, 0, 1, 0, 0, 0, 0, 0, 0, 1, 1, 1,\n",
       "         0, 0, 1, 0, 0, 0, 0, 1, 1, 1, 0, 0, 0, 0, 0, 0, 0, 0, 1, 0, 0, 1,\n",
       "         1, 0, 1, 0, 1, 1, 0, 0, 1, 1, 1, 1, 0, 1, 0, 1, 1, 1, 1, 0, 0, 1,\n",
       "         0, 1, 0, 1, 1, 0, 1, 0, 1, 0, 1, 1, 0, 1, 0, 1, 1, 0, 0, 1, 0, 1,\n",
       "         1, 0, 0, 0, 1, 0, 0, 0, 0, 1, 0, 0]))]"
      ]
     },
     "execution_count": 6,
     "metadata": {},
     "output_type": "execute_result"
    }
   ],
   "source": [
    "get_bootstrap(classification_data, classification_labels, 2)"
   ]
  },
  {
   "cell_type": "code",
   "execution_count": 7,
   "id": "eaa3b712",
   "metadata": {},
   "outputs": [],
   "source": [
    "def get_subsample(len_sample):\n",
    "    sample_indexes = list(range(len_sample))\n",
    "\n",
    "    len_subsample = int(np.sqrt(len_sample))\n",
    "    \n",
    "    subsample = np.random.choice(sample_indexes, size=len_subsample, replace=False)\n",
    "\n",
    "    return subsample"
   ]
  },
  {
   "cell_type": "code",
   "execution_count": 8,
   "id": "5e5002a8",
   "metadata": {},
   "outputs": [
    {
     "data": {
      "text/plain": [
       "array([1])"
      ]
     },
     "execution_count": 8,
     "metadata": {},
     "output_type": "execute_result"
    }
   ],
   "source": [
    "get_subsample(2)"
   ]
  },
  {
   "cell_type": "code",
   "execution_count": 9,
   "id": "4b771bbf",
   "metadata": {},
   "outputs": [],
   "source": [
    "class Node:\n",
    "    def __init__(self, index, t, true_branch, false_branch):\n",
    "        self.index = index  \n",
    "        self.t = t  \n",
    "        self.true_branch = true_branch  \n",
    "        self.false_branch = false_branch "
   ]
  },
  {
   "cell_type": "code",
   "execution_count": 10,
   "id": "1123e691",
   "metadata": {},
   "outputs": [],
   "source": [
    "class Leaf:\n",
    "    def __init__(self, data, labels):\n",
    "        self.data = data\n",
    "        self.labels = labels\n",
    "        self.prediction = self.predict()\n",
    "        \n",
    "    def predict(self):\n",
    "        classes = {} \n",
    "        for label in self.labels:\n",
    "            if label not in classes:\n",
    "                classes[label] = 0\n",
    "            classes[label] += 1\n",
    " \n",
    "        prediction = max(classes, key=classes.get)\n",
    "        return prediction        "
   ]
  },
  {
   "cell_type": "code",
   "execution_count": 11,
   "id": "fcdb8765",
   "metadata": {},
   "outputs": [],
   "source": [
    "def gini(labels):\n",
    "    classes = {}\n",
    "    for label in labels:\n",
    "        if label not in classes:\n",
    "            classes[label] = 0\n",
    "        classes[label] += 1\n",
    "    \n",
    "    impurity = 1\n",
    "    for label in classes:\n",
    "        p = classes[label] / len(labels)\n",
    "        impurity -= p ** 2\n",
    "        \n",
    "    return impurity"
   ]
  },
  {
   "cell_type": "code",
   "execution_count": 12,
   "id": "ef032b90",
   "metadata": {},
   "outputs": [],
   "source": [
    "def gain(left_labels, right_labels, root_gini):\n",
    "\n",
    "    p = float(left_labels.shape[0]) / (left_labels.shape[0] + right_labels.shape[0])\n",
    "    \n",
    "    return root_gini - p * gini(left_labels) - (1 - p) * gini(right_labels)"
   ]
  },
  {
   "cell_type": "code",
   "execution_count": 13,
   "id": "d68bca58",
   "metadata": {},
   "outputs": [],
   "source": [
    "def split(data, labels, column_index, t):\n",
    "    \n",
    "    left = np.where(data[:, column_index] <= t)\n",
    "    right = np.where(data[:, column_index] > t)\n",
    "        \n",
    "    true_data = data[left]\n",
    "    false_data = data[right]\n",
    "    \n",
    "    true_labels = labels[left]\n",
    "    false_labels = labels[right]\n",
    "        \n",
    "    return true_data, false_data, true_labels, false_labels"
   ]
  },
  {
   "cell_type": "code",
   "execution_count": 14,
   "id": "1bbd564e",
   "metadata": {},
   "outputs": [],
   "source": [
    "def find_best_split(data, labels):\n",
    "    \n",
    "    min_leaf_samples = 5\n",
    "\n",
    "    root_gini = gini(labels)\n",
    "\n",
    "    best_gain = 0\n",
    "    best_t = None\n",
    "    best_index = None\n",
    "    \n",
    "    n_features = data.shape[1]\n",
    "    \n",
    "    feature_subsample_indices = get_subsample(n_features) \n",
    "    \n",
    "    for index in feature_subsample_indices:\n",
    "        t_values = np.unique(data[:, index])\n",
    "        \n",
    "        for t in t_values:\n",
    "            true_data, false_data, true_labels, false_labels = split(data, labels, index, t)\n",
    "        \n",
    "            if len(true_data) < min_leaf_samples or len(false_data) < min_leaf_samples:\n",
    "                continue\n",
    "            \n",
    "            current_gain = gain(true_labels, false_labels, root_gini)\n",
    "            \n",
    "            if current_gain > best_gain:\n",
    "                best_gain, best_t, best_index = current_gain, t, index\n",
    "\n",
    "    return best_gain, best_t, best_index"
   ]
  },
  {
   "cell_type": "code",
   "execution_count": 15,
   "id": "0c118d9f",
   "metadata": {},
   "outputs": [],
   "source": [
    "def build_tree(data, labels):\n",
    "\n",
    "    gain, t, index = find_best_split(data, labels)\n",
    "\n",
    "    if gain == 0:\n",
    "        return Leaf(data, labels)\n",
    "\n",
    "    true_data, false_data, true_labels, false_labels = split(data, labels, index, t)\n",
    "\n",
    "    true_branch = build_tree(true_data, true_labels)\n",
    "    false_branch = build_tree(false_data, false_labels)\n",
    "\n",
    "    return Node(index, t, true_branch, false_branch)"
   ]
  },
  {
   "cell_type": "code",
   "execution_count": 16,
   "id": "a99565bc",
   "metadata": {},
   "outputs": [],
   "source": [
    "def random_forest(data, labels, n_trees):\n",
    "    forest = []\n",
    "    bootstrap = get_bootstrap(data, labels, n_trees)\n",
    "    \n",
    "    for b_data, b_labels in bootstrap:\n",
    "        forest.append(build_tree(b_data, b_labels))\n",
    "        \n",
    "    return forest"
   ]
  },
  {
   "cell_type": "code",
   "execution_count": 17,
   "id": "8ea3c4f1",
   "metadata": {},
   "outputs": [],
   "source": [
    "def classify_object(obj, node):\n",
    "\n",
    "    if isinstance(node, Leaf):\n",
    "        answer = node.prediction\n",
    "        return answer\n",
    "\n",
    "    if obj[node.index] <= node.t:\n",
    "        return classify_object(obj, node.true_branch)\n",
    "    else:\n",
    "        return classify_object(obj, node.false_branch)"
   ]
  },
  {
   "cell_type": "code",
   "execution_count": 18,
   "id": "f04be0da",
   "metadata": {},
   "outputs": [],
   "source": [
    "def predict(data, tree):\n",
    "    \n",
    "    classes = []\n",
    "    for obj in data:\n",
    "        prediction = classify_object(obj, tree)\n",
    "        classes.append(prediction)\n",
    "    return classes"
   ]
  },
  {
   "cell_type": "code",
   "execution_count": 19,
   "id": "294235b3",
   "metadata": {},
   "outputs": [],
   "source": [
    "def tree_vote(forest, data):\n",
    "\n",
    "    predictions = []\n",
    "    for tree in forest:\n",
    "        predictions.append(predict(data, tree))\n",
    "\n",
    "    predictions_per_object = list(zip(*predictions))\n",
    "\n",
    "    voted_predictions = []\n",
    "    for obj in predictions_per_object:\n",
    "        voted_predictions.append(max(set(obj), key=obj.count))\n",
    "        \n",
    "    return voted_predictions"
   ]
  },
  {
   "cell_type": "code",
   "execution_count": 20,
   "id": "62058fcd",
   "metadata": {},
   "outputs": [],
   "source": [
    "def get_meshgrid(data, step=.05, border=1.2):\n",
    "    x_min, x_max = data[:, 0].min() - border, data[:, 0].max() + border\n",
    "    y_min, y_max = data[:, 1].min() - border, data[:, 1].max() + border\n",
    "    return np.meshgrid(np.arange(x_min, x_max, step), np.arange(y_min, y_max, step))"
   ]
  },
  {
   "cell_type": "code",
   "execution_count": 21,
   "id": "198c221f",
   "metadata": {},
   "outputs": [],
   "source": [
    "def accuracy_metric(actual, predicted):\n",
    "    correct = 0\n",
    "    for i in range(len(actual)):\n",
    "        if actual[i] == predicted[i]:\n",
    "            correct += 1\n",
    "    return correct / float(len(actual)) * 100.0"
   ]
  },
  {
   "cell_type": "code",
   "execution_count": 22,
   "id": "fb7b41c4",
   "metadata": {},
   "outputs": [],
   "source": [
    "n_trees_list = np.array([1, 3, 10, 50])"
   ]
  },
  {
   "cell_type": "code",
   "execution_count": 27,
   "id": "431bc748",
   "metadata": {},
   "outputs": [
    {
     "name": "stdout",
     "output_type": "stream",
     "text": [
      "Строим лес из 1 деревьев\n",
      "Точность случайного леса из 1 деревьев на обучающей выборке: 95.714\n",
      "Точность случайного леса из 1 деревьев на тестовой выборке: 100.000\n"
     ]
    },
    {
     "data": {
      "image/png": "[encoded data removed]",
      "text/plain": [
       "<Figure size 1152x504 with 2 Axes>"
      ]
     },
     "metadata": {
      "needs_background": "light"
     },
     "output_type": "display_data"
    },
    {
     "name": "stdout",
     "output_type": "stream",
     "text": [
      "Строим лес из 3 деревьев\n",
      "Точность случайного леса из 3 деревьев на обучающей выборке: 95.714\n",
      "Точность случайного леса из 3 деревьев на тестовой выборке: 100.000\n"
     ]
    },
    {
     "data": {
      "image/png": "[encoded data removed]",
      "text/plain": [
       "<Figure size 1152x504 with 2 Axes>"
      ]
     },
     "metadata": {
      "needs_background": "light"
     },
     "output_type": "display_data"
    },
    {
     "name": "stdout",
     "output_type": "stream",
     "text": [
      "Строим лес из 10 деревьев\n",
      "Точность случайного леса из 10 деревьев на обучающей выборке: 95.714\n",
      "Точность случайного леса из 10 деревьев на тестовой выборке: 96.667\n"
     ]
    },
    {
     "data": {
      "image/png": "[encoded data removed]",
      "text/plain": [
       "<Figure size 1152x504 with 2 Axes>"
      ]
     },
     "metadata": {
      "needs_background": "light"
     },
     "output_type": "display_data"
    },
    {
     "name": "stdout",
     "output_type": "stream",
     "text": [
      "Строим лес из 50 деревьев\n",
      "Точность случайного леса из 50 деревьев на обучающей выборке: 95.714\n",
      "Точность случайного леса из 50 деревьев на тестовой выборке: 100.000\n"
     ]
    },
    {
     "data": {
      "image/png": "[encoded data removed]",
      "text/plain": [
       "<Figure size 1152x504 with 2 Axes>"
      ]
     },
     "metadata": {
      "needs_background": "light"
     },
     "output_type": "display_data"
    }
   ],
   "source": [
    "for n_trees in n_trees_list:\n",
    "    my_forest = random_forest(train_data, train_labels, n_trees)\n",
    "    \n",
    "    print(f'Строим лес из {n_trees} деревьев')\n",
    "    \n",
    "    train_answers = tree_vote(my_forest, train_data)\n",
    "    test_answers = tree_vote(my_forest, test_data)\n",
    "    train_accuracy = accuracy_metric(train_labels, train_answers)\n",
    "    print(f'Точность случайного леса из {n_trees} деревьев на обучающей выборке: {train_accuracy:.3f}')\n",
    "    test_accuracy = accuracy_metric(test_labels, test_answers)\n",
    "    print(f'Точность случайного леса из {n_trees} деревьев на тестовой выборке: {test_accuracy:.3f}')\n",
    "    \n",
    "    plt.figure(figsize = (16, 7))\n",
    "    plt.subplot(1,2,1)\n",
    "    xx, yy = get_meshgrid(train_data)\n",
    "    mesh_predictions = np.array(tree_vote(my_forest, np.c_[xx.ravel(), yy.ravel()])).reshape(xx.shape)\n",
    "    plt.pcolormesh(xx, yy, mesh_predictions, cmap = light_colors)\n",
    "    plt.scatter(train_data[:, 0], train_data[:, 1], c = train_labels, cmap = colors)\n",
    "    plt.title(f'Train accuracy={train_accuracy:.2f}')\n",
    "\n",
    "    \n",
    "    plt.subplot(1,2,2)\n",
    "    plt.pcolormesh(xx, yy, mesh_predictions, cmap = light_colors)\n",
    "    plt.scatter(test_data[:, 0], test_data[:, 1], c = test_labels, cmap = colors)\n",
    "    plt.title(f'Test accuracy={test_accuracy:.2f}')\n",
    "    plt.show()"
   ]
  },
  {
   "cell_type": "markdown",
   "id": "ab73fa99",
   "metadata": {},
   "source": [
    "### Задание 2. Сделайте выводы о получаемой сложности гиперплоскости и недообучении или переобучении случайного леса в зависимости от количества деревьев в нём."
   ]
  },
  {
   "cell_type": "markdown",
   "id": "4ba5cd2a",
   "metadata": {},
   "source": [
    "#### С ростом количества деревьев растет переобучение."
   ]
  },
  {
   "cell_type": "markdown",
   "id": "107d47e7",
   "metadata": {},
   "source": [
    "### Задание 3. Замените в реализованном алгоритме проверку, используя отложенную выборку на Out-of-Bag."
   ]
  },
  {
   "cell_type": "code",
   "execution_count": 28,
   "id": "3e929ff0",
   "metadata": {},
   "outputs": [],
   "source": [
    "np.random.seed(42)\n",
    "\n",
    "def get_oob_indices(sample_indices):\n",
    "    indices = np.arange(len(sample_indices))\n",
    "    return indices[~np.isin(indices, sample_indices)]\n",
    "\n",
    "\n",
    "def get_bootstrap(data, labels, N):\n",
    "    n_samples = data.shape[0] \n",
    "    bootstrap_oob = []\n",
    "    \n",
    "    for i in range(N):\n",
    "        \n",
    "        sample_index = np.random.randint(0, n_samples, size=n_samples)\n",
    "        \n",
    "        b_data = data[sample_index]\n",
    "        b_labels = labels[sample_index]\n",
    "        oob_indices = get_oob_indices(sample_index)\n",
    "        \n",
    "        bootstrap_oob.append((b_data, b_labels, oob_indices))        \n",
    "        \n",
    "    return bootstrap_oob"
   ]
  },
  {
   "cell_type": "code",
   "execution_count": 29,
   "id": "952434d8",
   "metadata": {},
   "outputs": [
    {
     "data": {
      "text/plain": [
       "41.42857142857143"
      ]
     },
     "execution_count": 29,
     "metadata": {},
     "output_type": "execute_result"
    }
   ],
   "source": [
    "b = get_bootstrap(train_data, train_labels, 1)\n",
    "b[0][2].shape[0] * 100 / b[0][0].shape[0]"
   ]
  },
  {
   "cell_type": "code",
   "execution_count": 30,
   "id": "2b8aae58",
   "metadata": {},
   "outputs": [
    {
     "data": {
      "text/plain": [
       "array([[0., 0.],\n",
       "       [0., 0.],\n",
       "       [0., 0.],\n",
       "       [0., 0.],\n",
       "       [0., 0.],\n",
       "       [0., 0.],\n",
       "       [0., 0.],\n",
       "       [0., 0.],\n",
       "       [0., 0.],\n",
       "       [0., 0.],\n",
       "       [0., 0.],\n",
       "       [0., 0.],\n",
       "       [0., 0.],\n",
       "       [0., 0.],\n",
       "       [0., 0.],\n",
       "       [0., 0.],\n",
       "       [0., 0.],\n",
       "       [0., 0.],\n",
       "       [0., 0.],\n",
       "       [0., 0.],\n",
       "       [0., 0.],\n",
       "       [0., 0.],\n",
       "       [0., 0.],\n",
       "       [0., 0.],\n",
       "       [0., 0.],\n",
       "       [0., 0.],\n",
       "       [0., 0.],\n",
       "       [0., 0.],\n",
       "       [0., 0.],\n",
       "       [0., 0.],\n",
       "       [0., 0.],\n",
       "       [0., 0.],\n",
       "       [0., 0.],\n",
       "       [0., 0.],\n",
       "       [0., 0.],\n",
       "       [0., 0.],\n",
       "       [0., 0.],\n",
       "       [0., 0.],\n",
       "       [0., 0.],\n",
       "       [0., 0.],\n",
       "       [0., 0.],\n",
       "       [0., 0.],\n",
       "       [0., 0.],\n",
       "       [0., 0.],\n",
       "       [0., 0.],\n",
       "       [0., 0.],\n",
       "       [0., 0.],\n",
       "       [0., 0.],\n",
       "       [0., 0.],\n",
       "       [0., 0.],\n",
       "       [0., 0.],\n",
       "       [0., 0.],\n",
       "       [0., 0.],\n",
       "       [0., 0.],\n",
       "       [0., 0.],\n",
       "       [0., 0.],\n",
       "       [0., 0.],\n",
       "       [0., 0.],\n",
       "       [0., 0.],\n",
       "       [0., 0.],\n",
       "       [0., 0.],\n",
       "       [0., 0.],\n",
       "       [0., 0.],\n",
       "       [0., 0.],\n",
       "       [0., 0.],\n",
       "       [0., 0.],\n",
       "       [0., 0.],\n",
       "       [0., 0.],\n",
       "       [0., 0.],\n",
       "       [0., 0.],\n",
       "       [0., 0.],\n",
       "       [0., 0.],\n",
       "       [0., 0.],\n",
       "       [0., 0.],\n",
       "       [0., 0.],\n",
       "       [0., 0.],\n",
       "       [0., 0.],\n",
       "       [0., 0.],\n",
       "       [0., 0.],\n",
       "       [0., 0.],\n",
       "       [0., 0.],\n",
       "       [0., 0.],\n",
       "       [0., 0.],\n",
       "       [0., 0.],\n",
       "       [0., 0.],\n",
       "       [0., 0.],\n",
       "       [0., 0.],\n",
       "       [0., 0.],\n",
       "       [0., 0.],\n",
       "       [0., 0.],\n",
       "       [0., 0.],\n",
       "       [0., 0.],\n",
       "       [0., 0.],\n",
       "       [0., 0.],\n",
       "       [0., 0.],\n",
       "       [0., 0.],\n",
       "       [0., 0.],\n",
       "       [0., 0.],\n",
       "       [0., 0.],\n",
       "       [0., 0.]])"
      ]
     },
     "execution_count": 30,
     "metadata": {},
     "output_type": "execute_result"
    }
   ],
   "source": [
    "np.zeros((classification_data.shape[0], len(set(classification_labels))))"
   ]
  },
  {
   "cell_type": "code",
   "execution_count": 31,
   "id": "6b9413d2",
   "metadata": {},
   "outputs": [],
   "source": [
    "def predict_oob(oob_predictions, oob_indices, tree, data):\n",
    "    oob_data = data[oob_indices]\n",
    "    prediction = predict(oob_data, tree)\n",
    "    \n",
    "    for i in range(len(oob_indices)):\n",
    "        oob_predictions[oob_indices[i], prediction[i]] += 1\n",
    "    return oob_predictions\n",
    "\n",
    "    \n",
    "def random_forest_oob(data, labels, n_trees):\n",
    "    forest = []\n",
    "    oob_predictions = np.zeros((data.shape[0], len(set(labels))))\n",
    "    bootstrap = get_bootstrap(data, labels, n_trees)\n",
    "    \n",
    "    for b_data, b_labels, oob_indices in bootstrap:\n",
    "        tree = build_tree(b_data, b_labels)\n",
    "        forest.append(tree)\n",
    "        \n",
    "        oob_predictions = predict_oob(oob_predictions=oob_predictions,\n",
    "                                      oob_indices=oob_indices,\n",
    "                                      tree=tree,\n",
    "                                      data=data)\n",
    "        \n",
    "    oob_score = accuracy_metric(labels, np.argmax(oob_predictions, axis=1))\n",
    "    \n",
    "    return forest, oob_score"
   ]
  },
  {
   "cell_type": "code",
   "execution_count": 32,
   "id": "c5e453ad",
   "metadata": {},
   "outputs": [
    {
     "data": {
      "text/plain": [
       "84.0"
      ]
     },
     "execution_count": 32,
     "metadata": {},
     "output_type": "execute_result"
    }
   ],
   "source": [
    "forest, oob_score = random_forest_oob(classification_data, classification_labels, 3)\n",
    "oob_score"
   ]
  },
  {
   "cell_type": "code",
   "execution_count": 33,
   "id": "81b532c0",
   "metadata": {},
   "outputs": [
    {
     "data": {
      "text/plain": [
       "0.78"
      ]
     },
     "execution_count": 33,
     "metadata": {},
     "output_type": "execute_result"
    }
   ],
   "source": [
    "from sklearn.ensemble import RandomForestClassifier\n",
    "\n",
    "rf = RandomForestClassifier(oob_score=True, n_estimators=3)\n",
    "rf.fit(classification_data, classification_labels)\n",
    "rf.oob_score_"
   ]
  },
  {
   "cell_type": "markdown",
   "id": "40cca913",
   "metadata": {},
   "source": [
    "### Задание 4. (На повторение) Перепишите функцию calc_gini из урока про решающие деревья так, чтобы в качестве критерия использовалась энтропия Шеннона. Переименуйте функцию в calc_entropy."
   ]
  },
  {
   "cell_type": "code",
   "execution_count": 35,
   "id": "c30a86f1",
   "metadata": {},
   "outputs": [],
   "source": [
    "def calc_entropy(labels):\n",
    "    classes = {}\n",
    "    for label in labels:\n",
    "        if label not in classes:\n",
    "            classes[label] = 0\n",
    "        classes[label] += 1\n",
    "    \n",
    "    impurity = 0\n",
    "    for label in classes:\n",
    "        p = classes[label] / len(labels)\n",
    "        impurity += p * np.log2(p)\n",
    "        \n",
    "    return -impurity"
   ]
  },
  {
   "cell_type": "code",
   "execution_count": null,
   "id": "a19a2384",
   "metadata": {},
   "outputs": [],
   "source": []
  },
  {
   "cell_type": "code",
   "execution_count": null,
   "id": "381e307f",
   "metadata": {},
   "outputs": [],
   "source": []
  },
  {
   "cell_type": "code",
   "execution_count": null,
   "id": "8af02e3a",
   "metadata": {},
   "outputs": [],
   "source": []
  }
 ],
 "metadata": {
  "kernelspec": {
   "display_name": "Python 3 (ipykernel)",
   "language": "python",
   "name": "python3"
  },
  "language_info": {
   "codemirror_mode": {
    "name": "ipython",
    "version": 3
   },
   "file_extension": ".py",
   "mimetype": "text/x-python",
   "name": "python",
   "nbconvert_exporter": "python",
   "pygments_lexer": "ipython3",
   "version": "3.9.7"
  }
 },
 "nbformat": 4,
 "nbformat_minor": 5
}
