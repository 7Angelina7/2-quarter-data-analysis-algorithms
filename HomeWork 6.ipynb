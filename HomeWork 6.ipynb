{
 "cells": [
  {
   "cell_type": "markdown",
   "id": "78e192c2",
   "metadata": {},
   "source": [
    "### Задание 1. Для реализованной модели градиентного бустинга постройте графики зависимости ошибки от количества деревьев в ансамбле и от максимальной глубины деревьев. Сделайте выводы о зависимости ошибки от этих параметров."
   ]
  },
  {
   "cell_type": "code",
   "execution_count": 1,
   "id": "cc394e7f",
   "metadata": {},
   "outputs": [],
   "source": [
    "from sklearn import model_selection\n",
    "from sklearn.tree import DecisionTreeRegressor\n",
    "from sklearn.datasets import load_diabetes\n",
    "import matplotlib.pyplot as plt\n",
    "%matplotlib inline\n",
    "import numpy as np"
   ]
  },
  {
   "cell_type": "code",
   "execution_count": 2,
   "id": "89596e96",
   "metadata": {},
   "outputs": [
    {
     "data": {
      "text/plain": [
       "((442, 10), (442,))"
      ]
     },
     "execution_count": 2,
     "metadata": {},
     "output_type": "execute_result"
    }
   ],
   "source": [
    "X, y = load_diabetes(return_X_y=True)\n",
    "X.shape, y.shape"
   ]
  },
  {
   "cell_type": "code",
   "execution_count": 3,
   "id": "69f4827b",
   "metadata": {},
   "outputs": [],
   "source": [
    "X_train, X_test, y_train, y_test = model_selection.train_test_split(X, y, test_size=0.25)"
   ]
  },
  {
   "cell_type": "code",
   "execution_count": 4,
   "id": "f9d34e5e",
   "metadata": {},
   "outputs": [],
   "source": [
    "def gb_predict(X, trees_list, eta):\n",
    "    predictions = np.zeros(X.shape[0])\n",
    "    for i, x in enumerate(X):\n",
    "        prediction = 0\n",
    "        for alg in trees_list:\n",
    "            prediction += eta * alg.predict([x])[0]\n",
    "        predictions[i] = prediction\n",
    "        \n",
    "    predictions = np.array([sum([eta * alg.predict([x])[0] for alg in trees_list]) for x in X])\n",
    "    return predictions"
   ]
  },
  {
   "cell_type": "code",
   "execution_count": 5,
   "id": "83d645be",
   "metadata": {},
   "outputs": [],
   "source": [
    "def mean_squared_error(y_real, prediction):\n",
    "    return (sum((y_real - prediction) ** 2)) / len(y_real)"
   ]
  },
  {
   "cell_type": "code",
   "execution_count": 6,
   "id": "bc25d26f",
   "metadata": {},
   "outputs": [],
   "source": [
    "def residual(y, z):\n",
    "    return - (z - y)"
   ]
  },
  {
   "cell_type": "code",
   "execution_count": 7,
   "id": "c77f41a0",
   "metadata": {},
   "outputs": [],
   "source": [
    "def gb_fit(n_trees, max_depth, X_train, X_test, y_train, y_test, eta):\n",
    "    trees = []\n",
    "    train_errors = []\n",
    "    test_errors = []\n",
    "    for i in range(n_trees):\n",
    "        tree = DecisionTreeRegressor(max_depth=max_depth, random_state=42)\n",
    "        if len(trees) == 0:\n",
    "            tree.fit(X_train, y_train)\n",
    "            train_errors.append(mean_squared_error(y_train, gb_predict(X_train, trees, eta)))\n",
    "            test_errors.append(mean_squared_error(y_test, gb_predict(X_test, trees, eta)))\n",
    "        else:\n",
    "            target = gb_predict(X_train, trees, eta)\n",
    "            tree.fit(X_train, residual(y_train, target))\n",
    "            train_errors.append(mean_squared_error(y_train, gb_predict(X_train, trees, eta)))\n",
    "            test_errors.append(mean_squared_error(y_test, gb_predict(X_test, trees, eta)))\n",
    "            \n",
    "        trees.append(tree)\n",
    "    return trees, train_errors, test_errors    "
   ]
  },
  {
   "cell_type": "code",
   "execution_count": 8,
   "id": "02d31257",
   "metadata": {},
   "outputs": [],
   "source": [
    "def evaluate_alg(X_train, X_test, y_train, y_test, trees, eta):\n",
    "    train_prediction = gb_predict(X_train, trees, eta)\n",
    "    mse_train = mean_squared_error(y_train, train_prediction)\n",
    "    test_prediction = gb_predict(X_test, trees, eta)\n",
    "    mse_test = mean_squared_error(y_test, test_prediction)\n",
    "    \n",
    "    return mse_train, mse_test"
   ]
  },
  {
   "cell_type": "code",
   "execution_count": 9,
   "id": "9609edd2",
   "metadata": {},
   "outputs": [],
   "source": [
    "def get_error_plot(n_trees, train_err, test_err):\n",
    "    plt.xlabel('Iteration number')\n",
    "    plt.ylabel('MSE')\n",
    "    plt.xlim(0, n_trees)\n",
    "    plt.plot(list(range(n_trees)), train_err, label='train error')\n",
    "    plt.plot(list(range(n_trees)), test_err, label='test error')\n",
    "    plt.legend(loc='upper right')\n",
    "    plt.show()"
   ]
  },
  {
   "cell_type": "code",
   "execution_count": 10,
   "id": "dbaae08d",
   "metadata": {},
   "outputs": [
    {
     "data": {
      "text/plain": [
       "(145.78086022312533, 7237.563205177868)"
      ]
     },
     "execution_count": 10,
     "metadata": {},
     "output_type": "execute_result"
    }
   ],
   "source": [
    "n_trees = 10\n",
    "max_depth = 5\n",
    "eta = 1\n",
    "trees, train_errors, test_errors = gb_fit(n_trees, max_depth, X_train, X_test, y_train, y_test, eta)\n",
    "evaluate_alg(X_train, X_test, y_train, y_test, trees, eta)"
   ]
  },
  {
   "cell_type": "code",
   "execution_count": 11,
   "id": "2620dd41",
   "metadata": {},
   "outputs": [],
   "source": [
    "def get_error_plot2(train_err, test_err):\n",
    "    x = list(range(0, len(train_err)))\n",
    "    plt.xlim(0, len(train_err))\n",
    "    plt.plot(x, train_err, label='train errors')\n",
    "    plt.plot(x, test_err, label='test errors')\n",
    "    plt.xlabel('max_depth')\n",
    "    plt.ylabel('Accuracy')\n",
    "    plt.legend(loc='right')\n",
    "\n",
    "train_err = []\n",
    "test_err = []"
   ]
  },
  {
   "cell_type": "code",
   "execution_count": 12,
   "id": "26cf8e15",
   "metadata": {},
   "outputs": [
    {
     "data": {
      "image/png": "[encoded data removed]",
      "text/plain": [
       "<Figure size 432x288 with 1 Axes>"
      ]
     },
     "metadata": {
      "needs_background": "light"
     },
     "output_type": "display_data"
    }
   ],
   "source": [
    "for max_depth in np.arange(1, 20, 1):\n",
    "    trees, train_errors, test_errors = gb_fit(n_trees, max_depth, X_train, X_test, y_train, y_test, eta)\n",
    "    mse_train, mse_test = evaluate_alg(X_train, X_test, y_train, y_test, trees, eta)\n",
    "    train_err.append(mse_train)\n",
    "    test_err.append(mse_test)\n",
    "\n",
    "get_error_plot2(train_err, test_err)"
   ]
  },
  {
   "cell_type": "code",
   "execution_count": 13,
   "id": "b2961d22",
   "metadata": {},
   "outputs": [
    {
     "data": {
      "image/png": "[encoded data removed]",
      "text/plain": [
       "<Figure size 432x288 with 1 Axes>"
      ]
     },
     "metadata": {
      "needs_background": "light"
     },
     "output_type": "display_data"
    }
   ],
   "source": [
    "max_depth = 3\n",
    "eta = 0.1\n",
    "n_trees = [1, 5, 10, 15, 20]\n",
    "train_err = []\n",
    "test_err = []\n",
    "train_errors = []\n",
    "test_errors = []\n",
    "\n",
    "for n_tree in n_trees:\n",
    "    trees, train_errors, test_errors = gb_fit(n_tree, max_depth, X_train, X_test, y_train, y_test, eta)\n",
    "    mse_train, mse_test = evaluate_alg(X_train, X_test, y_train, y_test, trees, eta)\n",
    "    train_err.append(mse_train)\n",
    "    test_err.append(mse_test)\n",
    "\n",
    "x = list(range(0, len(train_err)))\n",
    "plt.xlim(0, len(train_err))\n",
    "plt.plot(x, train_err, label='train errors')\n",
    "plt.plot(x, test_err, label='test errors')\n",
    "plt.xlabel('N')\n",
    "plt.ylabel('Accuracy')\n",
    "plt.legend(loc='upper right');"
   ]
  },
  {
   "cell_type": "markdown",
   "id": "415f0307",
   "metadata": {},
   "source": [
    "#### Вывод. С увеличением максимальной глубины дерева ошибка уменьшается на трейне и увеличивается на тесте. Это переобучение. \n",
    "#### С увеличением количества деревьев ошибка уменьшается на трейне и на тесте."
   ]
  },
  {
   "cell_type": "markdown",
   "id": "f0f9a8f5",
   "metadata": {},
   "source": [
    "### Задание 2. Модифицируйте реализованный алгоритм, чтобы получился стохастический градиентный бустинг. Размер подвыборки примите равным 0.5. Сравните на одном графике кривые изменения ошибки на тестовой выборке в зависимости от числа итераций."
   ]
  },
  {
   "cell_type": "code",
   "execution_count": 14,
   "id": "de666c5c",
   "metadata": {},
   "outputs": [],
   "source": [
    "def gb_fit_st(n_trees, max_depth, X_train, X_test, y_train, y_test, eta):\n",
    "    trees = []\n",
    "    train_errors = []\n",
    "    test_erreor = []\n",
    "    for i in range(n_tree // 2):\n",
    "        tree = DecisionTreeRegressor(max_depth = max_depth, random_state=42)\n",
    "        if len(trees) == 0:\n",
    "            tree.fit(X_train, y_train)\n",
    "            train_errors.append(mean_squared_error(y_train, gb_predict(X_train, trees, eta)))\n",
    "            test_errors.append(mean_squared_error(y_test, gb_predict(X_test, trees, eta)))\n",
    "        else:\n",
    "            target = gb_predict(X_train, trees, eta)\n",
    "            tree.fit(X_train, residual(y_train, target))\n",
    "            \n",
    "            train_errors.append(mean_squared_error(y_train, gb_predict(X_train, trees, eta)))\n",
    "            test_errors.append(mean_squared_error(y_test, gb_predict(X_test, trees, eta)))\n",
    "            \n",
    "        trees.append(tree)    \n",
    "    return trees, train_errors, test_errors    "
   ]
  },
  {
   "cell_type": "code",
   "execution_count": 16,
   "id": "ab093ebc",
   "metadata": {},
   "outputs": [
    {
     "data": {
      "image/png": "[encoded data removed]",
      "text/plain": [
       "<Figure size 432x288 with 1 Axes>"
      ]
     },
     "metadata": {
      "needs_background": "light"
     },
     "output_type": "display_data"
    }
   ],
   "source": [
    "max_depth = 3\n",
    "eta = 0.1\n",
    "n_trees = [1,5,10,15,20]\n",
    "train_err = []\n",
    "test_err = []\n",
    "train_errors = []\n",
    "test_errors = []\n",
    "\n",
    "for n_tree in n_trees:\n",
    "    trees, train_errors, test_errors = gb_fit_st(n_tree, max_depth, X_train, X_test, y_train, y_test, eta)\n",
    "    mse_train, mse_test = evaluate_alg(X_train, X_test, y_train, y_test, trees, eta)\n",
    "    train_err.append(mse_train)\n",
    "    test_err.append(mse_test)\n",
    "    \n",
    "x = list(range(0, len(train_err)))\n",
    "plt.xlim(0, len(train_err))\n",
    "plt.plot(x, train_err, label = 'train errors')\n",
    "plt.plot(x, test_err, label = 'test errors')\n",
    "plt.xlabel('N')\n",
    "plt.ylabel('Accuracy')\n",
    "plt.legend(loc='upper right');"
   ]
  }
 ],
 "metadata": {
  "kernelspec": {
   "display_name": "Python 3 (ipykernel)",
   "language": "python",
   "name": "python3"
  },
  "language_info": {
   "codemirror_mode": {
    "name": "ipython",
    "version": 3
   },
   "file_extension": ".py",
   "mimetype": "text/x-python",
   "name": "python",
   "nbconvert_exporter": "python",
   "pygments_lexer": "ipython3",
   "version": "3.9.7"
  }
 },
 "nbformat": 4,
 "nbformat_minor": 5
}
